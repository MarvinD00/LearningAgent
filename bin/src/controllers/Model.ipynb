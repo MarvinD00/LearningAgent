{
 "cells": [
  {
   "cell_type": "markdown",
   "metadata": {},
   "source": [
    "# Installations"
   ]
  },
  {
   "cell_type": "code",
   "execution_count": null,
   "metadata": {},
   "outputs": [],
   "source": [
    "%pip install numpy\n",
    "%pip install tensorflow\n",
    "%pip install tf-agents\n",
    "%pip install gym"
   ]
  },
  {
   "cell_type": "markdown",
   "metadata": {},
   "source": [
    "# Imports"
   ]
  },
  {
   "cell_type": "code",
   "execution_count": null,
   "metadata": {},
   "outputs": [],
   "source": [
    "import numpy as np\n",
    "import tensorflow as tf\n",
    "import tf_agents\n",
    "from gym import Env"
   ]
  },
  {
   "cell_type": "markdown",
   "metadata": {},
   "source": [
    "# Environment"
   ]
  },
  {
   "cell_type": "code",
   "execution_count": null,
   "metadata": {},
   "outputs": [],
   "source": [
    "class TetrisEnv(Env):\n",
    "\n",
    "    def __init__(self):\n",
    "        self.action_space = [0,1] # What is the model able to do? -> 0: move left, 1: move right\n",
    "        self.observation_space = ... # What does the environment do?\n",
    "        self.state = ... # What does the current situation look like?\n",
    "    \n",
    "    def step(self):\n",
    "        pass # TODO: What happens next? -> Changes the state after the model proceeded its action.\n",
    "    \n",
    "    def action(self, action):\n",
    "        self.state += action\n",
    "        pass # TODO: What does the model do?\n",
    "\n",
    "    def reset(self):\n",
    "        pass # TODO: Reset the environment for the models next attempt."
   ]
  }
 ],
 "metadata": {
  "kernelspec": {
   "display_name": "Python 3",
   "language": "python",
   "name": "python3"
  },
  "language_info": {
   "codemirror_mode": {
    "name": "ipython",
    "version": 3
   },
   "file_extension": ".py",
   "mimetype": "text/x-python",
   "name": "python",
   "nbconvert_exporter": "python",
   "pygments_lexer": "ipython3",
   "version": "3.11.2"
  }
 },
 "nbformat": 4,
 "nbformat_minor": 2
}
