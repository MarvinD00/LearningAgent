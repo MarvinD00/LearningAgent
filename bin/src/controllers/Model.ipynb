{
 "cells": [
  {
   "cell_type": "markdown",
   "metadata": {},
   "source": [
    "# Installations"
   ]
  },
  {
   "cell_type": "code",
   "execution_count": 1,
   "metadata": {},
   "outputs": [],
   "source": [
    "# %pip install numpy --upgrade\n",
    "# %pip install tensorflow --upgrade\n",
    "# %pip install keras-rl --upgrade\n",
    "# %pip install tf-agents[reverb] --upgrade\n",
    "# %pip install gym --upgrade"
   ]
  },
  {
   "cell_type": "markdown",
   "metadata": {},
   "source": [
    "# Imports"
   ]
  },
  {
   "cell_type": "code",
   "execution_count": 6,
   "metadata": {},
   "outputs": [],
   "source": [
    "import numpy as np\n",
    "import tensorflow as tf\n",
    "from gym import Env"
   ]
  },
  {
   "cell_type": "markdown",
   "metadata": {},
   "source": [
    "# Environment"
   ]
  },
  {
   "cell_type": "code",
   "execution_count": 7,
   "metadata": {},
   "outputs": [],
   "source": [
    "class TetrisEnv(Env):\n",
    "\n",
    "    def __init__(self):\n",
    "        self.action_space = [0,1] # 0: move left, 1: move right\n",
    "        self.observation_space = ... # Blockgrid\n",
    "        self.state = ... # Current situation\n",
    "    \n",
    "    def step(self):\n",
    "        pass # TODO: What happens next? -> Changes the state after the model proceeded its action.\n",
    "    \n",
    "    def action(self, action):\n",
    "        self.state += action\n",
    "        pass # TODO: What does the model do?\n",
    "\n",
    "    def reset(self):\n",
    "        pass # TODO: Reset the environment for the models next attempt.\n",
    "\n",
    "env = TetrisEnv()"
   ]
  },
  {
   "cell_type": "markdown",
   "metadata": {},
   "source": [
    "# Tensorflow implementation"
   ]
  },
  {
   "cell_type": "code",
   "execution_count": 8,
   "metadata": {},
   "outputs": [],
   "source": [
    "from tensorflow.keras.models import Sequential\n",
    "from tensorflow.keras.layers import Dense, Flatten\n",
    "from tensorflow.keras.optimizers import Adam"
   ]
  },
  {
   "cell_type": "code",
   "execution_count": 10,
   "metadata": {},
   "outputs": [
    {
     "ename": "AttributeError",
     "evalue": "'ellipsis' object has no attribute 'shape'",
     "output_type": "error",
     "traceback": [
      "\u001b[1;31m---------------------------------------------------------------------------\u001b[0m",
      "\u001b[1;31mAttributeError\u001b[0m                            Traceback (most recent call last)",
      "\u001b[1;32mc:\\Users\\egotr\\Desktop\\Miese AI\\LearningAgent\\bin\\src\\controllers\\Model.ipynb Cell 9\u001b[0m line \u001b[0;36m1\n\u001b[1;32m----> <a href='vscode-notebook-cell:/c%3A/Users/egotr/Desktop/Miese%20AI/LearningAgent/bin/src/controllers/Model.ipynb#X15sZmlsZQ%3D%3D?line=0'>1</a>\u001b[0m states \u001b[39m=\u001b[39m env\u001b[39m.\u001b[39;49mobservation_space\u001b[39m.\u001b[39;49mshape\n\u001b[0;32m      <a href='vscode-notebook-cell:/c%3A/Users/egotr/Desktop/Miese%20AI/LearningAgent/bin/src/controllers/Model.ipynb#X15sZmlsZQ%3D%3D?line=1'>2</a>\u001b[0m actions \u001b[39m=\u001b[39m \u001b[39mlen\u001b[39m(env\u001b[39m.\u001b[39mobservation_space)\n\u001b[0;32m      <a href='vscode-notebook-cell:/c%3A/Users/egotr/Desktop/Miese%20AI/LearningAgent/bin/src/controllers/Model.ipynb#X15sZmlsZQ%3D%3D?line=2'>3</a>\u001b[0m actions\n",
      "\u001b[1;31mAttributeError\u001b[0m: 'ellipsis' object has no attribute 'shape'"
     ]
    }
   ],
   "source": [
    "states = env.observation_space.shape\n",
    "actions = len(env.observation_space)\n",
    "actions"
   ]
  },
  {
   "cell_type": "code",
   "execution_count": 11,
   "metadata": {},
   "outputs": [],
   "source": [
    "def build_model(states, actions):\n",
    "    model = Sequential([\n",
    "        Dense(24, activation=\"relu\", input_shape=states),\n",
    "        Dense(24, activation=\"relu\"),\n",
    "        Dense(actions, activation=\"relu\")\n",
    "    ])\n",
    "    return model"
   ]
  },
  {
   "cell_type": "code",
   "execution_count": null,
   "metadata": {},
   "outputs": [],
   "source": [
    "model = build_model(states, actions)"
   ]
  },
  {
   "cell_type": "code",
   "execution_count": 15,
   "metadata": {},
   "outputs": [],
   "source": [
    "from rl.agents import DQNAgent\n",
    "from rl.policy import BoltzmannQPolicy\n",
    "from rl.memory import SequentialMemory"
   ]
  },
  {
   "cell_type": "code",
   "execution_count": 16,
   "metadata": {},
   "outputs": [],
   "source": [
    "def build_agent(model, actions):\n",
    "    policy = BoltzmannQPolicy()\n",
    "    memory = SequentialMemory(limit=50_000)\n",
    "    dqn = DQNAgent(model=model, policy=policy, nb_actions=actions)"
   ]
  },
  {
   "cell_type": "code",
   "execution_count": 17,
   "metadata": {},
   "outputs": [
    {
     "ename": "NameError",
     "evalue": "name 'model' is not defined",
     "output_type": "error",
     "traceback": [
      "\u001b[1;31m---------------------------------------------------------------------------\u001b[0m",
      "\u001b[1;31mNameError\u001b[0m                                 Traceback (most recent call last)",
      "\u001b[1;32mc:\\Users\\egotr\\Desktop\\Miese AI\\LearningAgent\\bin\\src\\controllers\\Model.ipynb Cell 14\u001b[0m line \u001b[0;36m1\n\u001b[1;32m----> <a href='vscode-notebook-cell:/c%3A/Users/egotr/Desktop/Miese%20AI/LearningAgent/bin/src/controllers/Model.ipynb#X22sZmlsZQ%3D%3D?line=0'>1</a>\u001b[0m dqn \u001b[39m=\u001b[39m build_agent(model, actions)\n\u001b[0;32m      <a href='vscode-notebook-cell:/c%3A/Users/egotr/Desktop/Miese%20AI/LearningAgent/bin/src/controllers/Model.ipynb#X22sZmlsZQ%3D%3D?line=1'>2</a>\u001b[0m dqn\u001b[39m.\u001b[39mcompile(Adam(learning_rate\u001b[39m=\u001b[39m\u001b[39mfloat\u001b[39m(\u001b[39m1e-2\u001b[39m)), nb_steps\u001b[39m=\u001b[39m\u001b[39m50_000\u001b[39m, verbose\u001b[39m=\u001b[39m\u001b[39m1\u001b[39m)\n",
      "\u001b[1;31mNameError\u001b[0m: name 'model' is not defined"
     ]
    }
   ],
   "source": [
    "dqn = build_agent(model, actions)\n",
    "dqn.compile(Adam(learning_rate=float(1e-2)), nb_steps=50_000, verbose=1)"
   ]
  },
  {
   "cell_type": "code",
   "execution_count": null,
   "metadata": {},
   "outputs": [],
   "source": []
  }
 ],
 "metadata": {
  "kernelspec": {
   "display_name": "Python 3",
   "language": "python",
   "name": "python3"
  },
  "language_info": {
   "codemirror_mode": {
    "name": "ipython",
    "version": 3
   },
   "file_extension": ".py",
   "mimetype": "text/x-python",
   "name": "python",
   "nbconvert_exporter": "python",
   "pygments_lexer": "ipython3",
   "version": "3.11.2"
  }
 },
 "nbformat": 4,
 "nbformat_minor": 2
}
